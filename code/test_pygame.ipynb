{
 "cells": [
  {
   "cell_type": "code",
   "execution_count": null,
   "id": "374a9571-8f90-4522-9b4e-0d119d31e9a9",
   "metadata": {},
   "outputs": [
    {
     "name": "stdout",
     "output_type": "stream",
     "text": [
      "pygame 2.6.0 (SDL 2.30.7, Python 3.12.6)\n",
      "Hello from the pygame community. https://www.pygame.org/contribute.html\n",
      "SDL Version: 2.30.7\n",
      "Pygame Version: 2.6.0\n",
      "Byteorder: 1234\n"
     ]
    }
   ],
   "source": [
    "#!/usr/bin/env python3\n",
    "import sys\n",
    "import pygame\n",
    "import pygame.version\n",
    "\n",
    "try:\n",
    "    # SDL Version und Byteorder ausgeben\n",
    "    print(f\"SDL Version: {pygame.version.SDL}\")\n",
    "    print(f\"Pygame Version: {pygame.version.ver}\")\n",
    "    print(f\"Byteorder: {pygame.get_sdl_byteorder()}\")\n",
    "\n",
    "    pygame.init()\n",
    "    screen = pygame.display.set_mode((300, 200))\n",
    "    running = True\n",
    "    while running:\n",
    "        for event in pygame.event.get():\n",
    "            if event.type == pygame.QUIT:\n",
    "                running = False\n",
    "        screen.fill((255, 255, 255))\n",
    "        pygame.draw.circle(screen, (255, 0, 0), (150, 100), 30)\n",
    "        pygame.display.flip()\n",
    "except pygame.error as e:\n",
    "    print(f\"Pygame-Fehler aufgetreten: {e}\")\n",
    "except Exception as e:\n",
    "    print(f\"Unerwarteter Fehler: {e}\")\n",
    "finally:\n",
    "    pygame.quit()"
   ]
  },
  {
   "cell_type": "code",
   "execution_count": null,
   "id": "ae85b346-269b-4da6-91b6-e6ef39f0b2dc",
   "metadata": {},
   "outputs": [],
   "source": []
  }
 ],
 "metadata": {
  "kernelspec": {
   "display_name": "Python (jupyter_fresh)",
   "language": "python",
   "name": "jupyter_fresh"
  },
  "language_info": {
   "codemirror_mode": {
    "name": "ipython",
    "version": 3
   },
   "file_extension": ".py",
   "mimetype": "text/x-python",
   "name": "python",
   "nbconvert_exporter": "python",
   "pygments_lexer": "ipython3",
   "version": "3.12.6"
  }
 },
 "nbformat": 4,
 "nbformat_minor": 5
}
